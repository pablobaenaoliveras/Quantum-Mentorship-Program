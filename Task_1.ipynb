{
 "cells": [
  {
   "cell_type": "markdown",
   "metadata": {},
   "source": [
    "I use qiskit libraries.It is the open code in Python language created by IBM for simulation of Quantum Algorithms. \n",
    "It is recommended installing Anaconda, a cross-platform Python distribution for scientific computing. Jupyter, included in Anaconda,  for interacting with Qiskit.\n",
    "\n",
    "\n",
    "\n",
    "Install the Qiskit package, which includes Terra, Aer, Ignis, and Aqua:\n",
    "\n",
    "<i><b>pip install qiskit</i></b>"
   ]
  },
  {
   "cell_type": "markdown",
   "metadata": {},
   "source": [
    "### Task 1 \n",
    "This code is to solve the problem proposed in Task 1. The problem was proposed with a quantum circuit of 4 qubits and I have developed it using the number of qubits as a parameter (n)"
   ]
  },
  {
   "cell_type": "markdown",
   "metadata": {},
   "source": [
    "### Initalizaton, Libraries"
   ]
  },
  {
   "cell_type": "code",
   "execution_count": 1,
   "metadata": {},
   "outputs": [],
   "source": [
    "from qiskit import QuantumCircuit, QuantumRegister, ClassicalRegister, execute, Aer, IBMQ\n",
    "from qiskit import transpile, assemble\n",
    "from qiskit.quantum_info import Statevector, random_statevector\n",
    "from math import pi\n",
    "import numpy as np\n",
    "from matplotlib import pyplot as plt\n",
    "import scipy #Libry use for optimization algorithms"
   ]
  },
  {
   "cell_type": "markdown",
   "metadata": {},
   "source": [
    "### Circuit creation functions"
   ]
  },
  {
   "cell_type": "markdown",
   "metadata": {},
   "source": [
    "I have defined two functions to contruct the quantum circuit, get_var_qc(params,n,L) to construct the circuit with the RX,RZ and CZ gates. And get_var_qc_ugates(params,n,L) to construct the circuit with U_odds gates made by RXs gates and U_evens gates made by RZs and CZs gates.The one I chose to run the program is get_var_qc_ugates(params,n,L) since I think is more accurate to the description of the task.Inside get_var_qc_ugates(params,n,L) there are two more functions: convert_circuit_to_odd_gate(counter_gate,circuit,n,params,counter_layer,j) and convert_circuit_to_even_gate(counter_gate,circuit,n,params,counter_layer,j) which respectevely convert RXs gates to U_odd gates and RZs,CZs gates to U_even gates."
   ]
  },
  {
   "cell_type": "code",
   "execution_count": 2,
   "metadata": {},
   "outputs": [],
   "source": [
    "#Args are params: vector of the parameters thetha_i_n, n: number of qubits, L: number of layers\n",
    "    \n",
    "def get_var_qc(params,n,L):  \n",
    "    #qreg is a quantum register with n qubits\n",
    "    qreg=QuantumRegister(n,name='qreg') \n",
    "    #qc is a quantum circuit created with the quantum register qreg\n",
    "    qc=QuantumCircuit(qreg)\n",
    "    #the circuit is initialized with all the qubits to 0 with reset\n",
    "    qc.reset(qreg)\n",
    "    qc.barrier()\n",
    "    #counter_layer is a counter to start in the appropiate index of the vector of parameters\n",
    "    #for each iteration of L (number of layers)\n",
    "    counter_layer=0\n",
    "    for j in range(L):\n",
    "        for i in range(n):\n",
    "            #rotation x gate in each qubit with each parameter for each layer\n",
    "            qc.rx(params[i+counter_layer],qreg[i])\n",
    "        qc.barrier()\n",
    "        for i in range(n):\n",
    "            #rotation z gate in each qubit with each parameter for each layer\n",
    "            qc.rz(params[i+n+counter_layer],qreg[i])\n",
    "        #cz gates apply for n qubits. counter_bits is a counter to start in the correct qubit for each iteration in range (n-1)\n",
    "        counter_bits=0\n",
    "        for l in range(n-1):\n",
    "            counter_bits+=1\n",
    "            for j in range(n-counter_bits):\n",
    "                #cz gates\n",
    "                qc.cz(l,j+counter_bits)\n",
    "        qc.barrier()\n",
    "        #counter_layer is incremented by 2*n since there is one parameter per qubit in each gate and there are 2 gates per layer\n",
    "        counter_layer+=(2*n)\n",
    "    return qc"
   ]
  },
  {
   "cell_type": "code",
   "execution_count": 3,
   "metadata": {},
   "outputs": [],
   "source": [
    "#Args are params:counter_gate: counter +1 for each layer, used to identify the gate number of the circuit \n",
    "#circuit: circuit in which the U_gates are appended\n",
    "#n: number of qubits,vector of the parameters thetha_i_n,\n",
    "#counter_layer is a counter to start in the appropiate index of the vector of parameters \n",
    "#for each iteration of L (number of layers) \n",
    "#j is a counter of a layer in the circuit, j=range(L)\n",
    "\n",
    "def convert_circuit_to_odd_gate(counter_gate,circuit,n,params,counter_layer,j):\n",
    "    #qreg is a quantum register with n qubits\n",
    "    qreg=QuantumRegister(n,name='qreg')\n",
    "     #qc is a quantum circuit created with the quantum register qreg, and its name is U_numbergate\n",
    "    qc=QuantumCircuit(qreg,name='U_' + str(counter_gate+j+1))\n",
    "    for i in range(n):\n",
    "        #rotation x gate in each qubit with each parameter for each layer\n",
    "        qc.rx(params[i+counter_layer],qreg[i])\n",
    "    #the Rxs gates applied to the n qubits are transoform into a gate call U_odd\n",
    "    U_odd=qc.to_gate()\n",
    "    #The U_odd gate is applied to the quantum circuit called circuit\n",
    "    circuit.append(U_odd,qreg)\n",
    "    return circuit\n",
    "\n",
    "def convert_circuit_to_even_gate(counter_gate,circuit,n,params,counter_layer,j):\n",
    "     #qreg is a quantum register with n qubits\n",
    "    qreg=QuantumRegister(n,name='qreg')\n",
    "    #qc is a quantum circuit created with the quantum register qreg, and its name is U_numbergate\n",
    "    qc=QuantumCircuit(qreg,name='U_' + str(counter_gate+j+2))\n",
    "    for i in range(n):\n",
    "        #rotation z gate in each qubit with each parameter for each layer\n",
    "        qc.rz(params[i+n+counter_layer],qreg[i])\n",
    "         #cz gates apply for n qubits. counter_bits is a counter to start in the correct qubit for each iteration in range (n-1)\n",
    "        counter_bits=0\n",
    "    for l in range(n-1):\n",
    "        counter_bits+=1\n",
    "        for j in range(n-counter_bits):\n",
    "             #cz gates\n",
    "            qc.cz(l,j+counter_bits)\n",
    "    #the RZs gates and CZs gates applied to the n qubits are transoform into a gate call U_even\n",
    "    U_even=qc.to_gate()\n",
    "     #The U_even gate is applied to the quantum circuit called circuit\n",
    "    circuit.append(U_even,qreg)\n",
    "    return circuit      \n",
    "\n",
    "#Args are params: vector of the parameters thetha_i_n, n: number of qubits, L: number of layers\n",
    "\n",
    "def get_var_qc_ugates(params,n,L):\n",
    "    #qreg is a quantum register with n qubits\n",
    "    qreg=QuantumRegister(n,name='qreg')\n",
    "     #circuit is a quantum circuit created with the quantum register qreg\n",
    "    circuit=QuantumCircuit(qreg,name='circuit')\n",
    "     #the circuit is initialized with all the qubits to 0 with reset\n",
    "    circuit.reset(qreg)\n",
    "    #Initialize counter_layer\n",
    "    counter_layer=0\n",
    "     #Initialize counter_gate\n",
    "    counter_gate=0\n",
    "    #For each layer of the circuit a U_odd and a U_even gate are applied \n",
    "    for j in range(L):\n",
    "        circuit=convert_circuit_to_odd_gate(counter_gate,circuit,n,params,counter_layer,j)\n",
    "        circuit=convert_circuit_to_even_gate(counter_gate,circuit,n,params,counter_layer,j)\n",
    "        counter_gate+=1\n",
    "        #counter_layer is incremented by 2*n since there is one parameter per qubit in each gate and there are 2 gates per layer\n",
    "        counter_layer+=(2*n)\n",
    "    return circuit\n"
   ]
  },
  {
   "cell_type": "markdown",
   "metadata": {},
   "source": [
    "### Cost function"
   ]
  },
  {
   "cell_type": "code",
   "execution_count": 4,
   "metadata": {},
   "outputs": [],
   "source": [
    "#Args are params: vector of the parameters thetha_i_n, n: number of qubits, L: number of layers,\n",
    "#dims: length of statevectector= 2**n \n",
    "def objective_function(params,n,L,dims):\n",
    "    # Obtain a quantum circuit instance from the parameters, with n qubits and L layers\n",
    "    qc = get_var_qc_ugates(params,n,L)\n",
    "    # Execute the quantum circuit to obtain the output state vector associated with the current parameters\n",
    "    result = execute(qc, backend).result()\n",
    "    # Obtain the outputstate, output state vector of the quantum circuit \n",
    "    outputstate = result.get_statevector(qc)\n",
    "    # Calculate the cost as the distance between the output state vector and the random target state vector to the power of 2\n",
    "    #np.abs(complex_number)=modulus of complex number so we are calculating the sum of the modulus to the power of two \n",
    "    #of each component of the vector which is the outputstate vector with the parameters of our circucit minus the objective \n",
    "    #random generated statevector\n",
    "    cost = sum([((np.abs(outputstate[i] - target_statevector[i]))**2) for i in range(dims)])\n",
    "    return cost"
   ]
  },
  {
   "cell_type": "markdown",
   "metadata": {},
   "source": [
    "### Backend (StateVector Simulation)"
   ]
  },
  {
   "cell_type": "code",
   "execution_count": 5,
   "metadata": {},
   "outputs": [],
   "source": [
    "#simulator to calculate the state_vector of a quantum circuit\n",
    "backend=Aer.get_backend(name='statevector_simulator')"
   ]
  },
  {
   "cell_type": "markdown",
   "metadata": {},
   "source": [
    "### Number of qubits selection & random state vector creation"
   ]
  },
  {
   "cell_type": "code",
   "execution_count": 6,
   "metadata": {},
   "outputs": [],
   "source": [
    "# the dimension of the state vector is equal to 2**n,  n=number of qubits\n",
    "n=4 \n",
    "dims=2**n\n",
    "#Creation of the random objective state_vector\n",
    "target_statevector=random_statevector(dims).data"
   ]
  },
  {
   "cell_type": "markdown",
   "metadata": {},
   "source": [
    "### L-BFGS-B Optimization Algorithm\n",
    "I have selected this optimization algorithm since it allows to implement boundaries to the parameters"
   ]
  },
  {
   "cell_type": "code",
   "execution_count": null,
   "metadata": {},
   "outputs": [
    {
     "name": "stdout",
     "output_type": "stream",
     "text": [
      "Cost_Function_Value: 0.8051728673984399, Success: True, Status: 0, Message: b'CONVERGENCE: REL_REDUCTION_OF_F_<=_FACTR*EPSMCH'\n",
      "Cost_Function_Value: 0.4350931842684961, Success: True, Status: 0, Message: b'CONVERGENCE: REL_REDUCTION_OF_F_<=_FACTR*EPSMCH'\n",
      "Cost_Function_Value: 0.07609470424576387, Success: True, Status: 0, Message: b'CONVERGENCE: REL_REDUCTION_OF_F_<=_FACTR*EPSMCH'\n",
      "Cost_Function_Value: 0.005136722476547207, Success: True, Status: 0, Message: b'CONVERGENCE: REL_REDUCTION_OF_F_<=_FACTR*EPSMCH'\n",
      "Cost_Function_Value: 0.00498666506886015, Success: True, Status: 0, Message: b'CONVERGENCE: REL_REDUCTION_OF_F_<=_FACTR*EPSMCH'\n",
      "Cost_Function_Value: 0.00042041426279361817, Success: True, Status: 0, Message: b'CONVERGENCE: REL_REDUCTION_OF_F_<=_FACTR*EPSMCH'\n",
      "Cost_Function_Value: 0.00017138670967950398, Success: True, Status: 0, Message: b'CONVERGENCE: REL_REDUCTION_OF_F_<=_FACTR*EPSMCH'\n"
     ]
    }
   ],
   "source": [
    "#Initialization of a list to retrieve the cost function final values for each layer value\n",
    "f_values=[] \n",
    "#List of number of layers\n",
    "L_values=[1,2,3,4,5,10,20,50] \n",
    "for L in L_values:\n",
    "    #number of parameters\n",
    "    n_variables=2*n*L\n",
    "    #Random  parameters between 0-2pi, length equal to the number of parameter 2*n*L \n",
    "    #In each layer L there are 2 gates and in each gate n,number of qubits parameters\n",
    "    params=np.random.uniform(0,2*pi,n_variables)\n",
    "  \n",
    "    #Boundary of the parameters, values between 0-2pi\n",
    "    bound = tuple((0, 2*pi) for x in range (len(params))) \n",
    "    #Optimization Algorithm. Arguments are objective_function, parameters, optimization method applid, boundaries and tolerance.\n",
    "    opts = scipy.optimize.minimize(objective_function, params, args=(n,L,dims),method='L-BFGS-B',tol=0.0001,bounds=bound,\n",
    "                                   options={'maxiter':1000})\n",
    "                                  \n",
    "    success=opts.success\n",
    "    status=opts.status\n",
    "    message=opts.message\n",
    "    #Value of the cost function with the final value of the parameters\n",
    "    f=opts.fun \n",
    "    print('Cost_Function_Value: {}, Success: {}, Status: {}, Message: {}'.format(f,success,status,message))\n",
    "    f_values.append(f)"
   ]
  },
  {
   "cell_type": "markdown",
   "metadata": {},
   "source": [
    "### Plot results "
   ]
  },
  {
   "cell_type": "code",
   "execution_count": null,
   "metadata": {},
   "outputs": [],
   "source": [
    "plt.scatter(L_values,f_values,color='red')\n",
    "plt.xlabel(\"Layer\")\n",
    "plt.ylabel(\"error value(Manhattan Distance)\")\n",
    "plt.title('error value(Manhattan Distance) VS number of layers')\n",
    "plt.show()"
   ]
  },
  {
   "cell_type": "markdown",
   "metadata": {},
   "source": [
    "### Check of the result for the last value of L"
   ]
  },
  {
   "cell_type": "code",
   "execution_count": null,
   "metadata": {},
   "outputs": [],
   "source": [
    "final_parameters=opts.x\n",
    "print(final_parameters)"
   ]
  },
  {
   "cell_type": "code",
   "execution_count": null,
   "metadata": {},
   "outputs": [],
   "source": [
    "qc=get_var_qc_ugates(final_parameters,n,L)\n",
    "result = execute(qc, backend).result()\n",
    "    # Obtain the outputstate, output state vector of the quantum circuit \n",
    "outputstate = result.get_statevector(qc)\n",
    "print(outputstate)\n",
    "print(target_statevector)\n",
    "print(outputstate-target_statevector)"
   ]
  }
 ],
 "metadata": {
  "kernelspec": {
   "display_name": "Python 3",
   "language": "python",
   "name": "python3"
  },
  "language_info": {
   "codemirror_mode": {
    "name": "ipython",
    "version": 3
   },
   "file_extension": ".py",
   "mimetype": "text/x-python",
   "name": "python",
   "nbconvert_exporter": "python",
   "pygments_lexer": "ipython3",
   "version": "3.7.6"
  }
 },
 "nbformat": 4,
 "nbformat_minor": 4
}
